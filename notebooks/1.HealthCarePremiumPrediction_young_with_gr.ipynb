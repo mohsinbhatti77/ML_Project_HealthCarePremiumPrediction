{
 "cells": [
  {
   "cell_type": "code",
   "execution_count": null,
   "id": "9a0321fe-fe12-4e48-a937-109f1d65ba0f",
   "metadata": {},
   "outputs": [],
   "source": [
    "\n",
    "import numpy as np\n",
    "import pandas as pd\n",
    "import matplotlib.pyplot as plt\n",
    "import seaborn as sns\n",
    "from sklearn.model_selection import train_test_split\n",
    "from sklearn.linear_model import LinearRegression\n",
    "from sklearn.ensemble import RandomForestRegressor\n",
    "from sklearn.metrics import mean_squared_error, mean_absolute_error, r2_score"
   ]
  },
  {
   "cell_type": "code",
   "execution_count": null,
   "id": "b4c6c5a9-abf3-4012-adb9-c71656b424b9",
   "metadata": {},
   "outputs": [],
   "source": [
    "df = pd.read_excel('premiums_young_with_gr.xlsx')\n",
    "print(df.shape)"
   ]
  },
  {
   "cell_type": "code",
   "execution_count": null,
   "id": "ae5e9bca-4d3b-4bce-8970-aa6bdd62db93",
   "metadata": {},
   "outputs": [],
   "source": [
    "df.head(3)"
   ]
  },
  {
   "cell_type": "code",
   "execution_count": null,
   "id": "51e4592a-7a26-445c-8aa4-d9e62bb457bb",
   "metadata": {},
   "outputs": [],
   "source": [
    "df.columns"
   ]
  },
  {
   "cell_type": "markdown",
   "id": "69e17fad-7267-417d-bbe0-89b8a056f6ae",
   "metadata": {},
   "source": [
    "#### Removing, Like there is some of variables/Features having white spaces"
   ]
  },
  {
   "cell_type": "code",
   "execution_count": null,
   "id": "0a42b17d-4a0e-4cda-9fa3-7ad109628604",
   "metadata": {},
   "outputs": [],
   "source": [
    "df.columns = df.columns.str.replace(' ', '_').str.lower()\n",
    "# df.columns = df.columns.str.strip().str.lower().str.replace(r'\\s+', '_', regex=True)"
   ]
  },
  {
   "cell_type": "code",
   "execution_count": null,
   "id": "c2f3d012-3fef-4095-bdc4-07dadfee8bc1",
   "metadata": {},
   "outputs": [],
   "source": [
    "df.head()"
   ]
  },
  {
   "cell_type": "markdown",
   "id": "ea018b3f-1277-485e-a4c4-bb4aff232fd7",
   "metadata": {},
   "source": [
    "### Checking Null Values in Data and Dropping these Values"
   ]
  },
  {
   "cell_type": "code",
   "execution_count": null,
   "id": "bc2d9006-c2cb-4ea0-8297-5f8c914fe18c",
   "metadata": {},
   "outputs": [],
   "source": [
    "df.isnull().sum()"
   ]
  },
  {
   "cell_type": "code",
   "execution_count": null,
   "id": "3ffe722a-510d-4718-b071-b05e5dbf0a4e",
   "metadata": {},
   "outputs": [],
   "source": [
    "df.dropna(inplace = True)\n",
    "df.isnull().sum()"
   ]
  },
  {
   "cell_type": "code",
   "execution_count": null,
   "id": "149f5486-afe0-4173-bd95-f1c1568d4386",
   "metadata": {},
   "outputs": [],
   "source": [
    "df.shape"
   ]
  },
  {
   "cell_type": "code",
   "execution_count": null,
   "id": "cecfb695-d520-4ae5-8018-d7347fe7b383",
   "metadata": {},
   "outputs": [],
   "source": [
    "df.describe()"
   ]
  },
  {
   "cell_type": "code",
   "execution_count": null,
   "id": "28eb167f-e6cf-4415-b673-04f49d82f52c",
   "metadata": {},
   "outputs": [],
   "source": [
    "df[df.number_of_dependants<0]['number_of_dependants'].unique()"
   ]
  },
  {
   "cell_type": "code",
   "execution_count": null,
   "id": "d7b8f393-fe25-4838-b5ec-0711b586100b",
   "metadata": {},
   "outputs": [],
   "source": [
    "df['number_of_dependants'] = abs(df['number_of_dependants'])\n",
    "df.number_of_dependants.describe()"
   ]
  },
  {
   "cell_type": "code",
   "execution_count": null,
   "id": "bec72777-425b-4c78-8da5-313e832844b8",
   "metadata": {},
   "outputs": [],
   "source": [
    "numeric_col = df.select_dtypes(['float64', 'int64']).columns\n",
    "numeric_col"
   ]
  },
  {
   "cell_type": "code",
   "execution_count": null,
   "id": "4e1ec1e4-7ab5-4906-8f42-0c795e95fdef",
   "metadata": {
    "scrolled": true
   },
   "outputs": [],
   "source": [
    "for c in  numeric_col:\n",
    "    sns.boxplot(x = df[c])\n",
    "    plt.show()"
   ]
  },
  {
   "cell_type": "markdown",
   "id": "e35cfaac-739b-4dd9-845a-22348fc03302",
   "metadata": {},
   "source": [
    "### Lets start outliers Treatment"
   ]
  },
  {
   "cell_type": "code",
   "execution_count": null,
   "id": "521d77f3-64f3-4913-bffc-31e7569a3e43",
   "metadata": {},
   "outputs": [],
   "source": [
    "df[df.age>100]['age'].describe()"
   ]
  },
  {
   "cell_type": "code",
   "execution_count": null,
   "id": "07326b70-a464-40a5-b198-002e9f827d23",
   "metadata": {},
   "outputs": [],
   "source": [
    "df1 = df[df.age<=100].copy()\n",
    "df1.describe()"
   ]
  },
  {
   "cell_type": "code",
   "execution_count": null,
   "id": "2e290c82-75ee-47a5-b6a2-9534eac20c91",
   "metadata": {},
   "outputs": [],
   "source": [
    "def getting_iqr_bounds(col):\n",
    "    Q1, Q3 = col.quantile([0.25, 0.75])\n",
    "    IQR = Q3-Q1\n",
    "    lower_bound = Q1-1.5 * IQR\n",
    "    upper_bound = Q3 + 1.5 * IQR\n",
    "    return lower_bound, upper_bound"
   ]
  },
  {
   "cell_type": "code",
   "execution_count": null,
   "id": "66f11324-ce1e-4cb1-b16b-f2a684c40af5",
   "metadata": {},
   "outputs": [],
   "source": [
    "getting_iqr_bounds(df1.income_lakhs)"
   ]
  },
  {
   "cell_type": "code",
   "execution_count": null,
   "id": "68cea768-ee1b-48ea-b41a-2238526de861",
   "metadata": {},
   "outputs": [],
   "source": [
    "quantile_thresold = df1.income_lakhs.quantile(0.999)\n",
    "quantile_thresold"
   ]
  },
  {
   "cell_type": "code",
   "execution_count": null,
   "id": "1983c453-1223-4ebe-b6e0-135c2fc19f9c",
   "metadata": {},
   "outputs": [],
   "source": [
    "df2 = df1[df1.income_lakhs<= quantile_thresold].copy()\n",
    "df2.describe()"
   ]
  },
  {
   "cell_type": "code",
   "execution_count": null,
   "id": "b01e8da1-4abe-446a-a26a-9d9a57e9437e",
   "metadata": {},
   "outputs": [],
   "source": [
    "import seaborn as sns\n",
    "import matplotlib.pyplot as plt\n",
    "\n",
    "# Assuming numeric_col is a list of numeric columns in df2\n",
    "num_cols = len(numeric_col)  # Number of numeric columns\n",
    "fig, axes = plt.subplots(3, 2, figsize=(8, 6))  # Create a 3x2 grid of subplots\n",
    "axes = axes.ravel()  # Flatten the grid into a 1D array for easy iteration\n",
    "\n",
    "# Loop through each numeric column and plot\n",
    "for i, col in enumerate(numeric_col):\n",
    "    sns.histplot(df2[col], kde=True, ax=axes[i])  # Plot on the i-th subplot\n",
    "    axes[i].set_title(f'Histogram of {col}')  # Add a title\n",
    "    axes[i].set_xlabel(col)  # Label the x-axis\n",
    "    axes[i].set_ylabel('Frequency')  # Label the y-axis\n",
    "\n",
    "# Hide any unused subplot spaces if there are fewer than 6 columns\n",
    "for j in range(i + 1, len(axes)):\n",
    "    fig.delaxes(axes[j])\n",
    "\n",
    "plt.tight_layout()  # Adjust spacing between subplots\n",
    "plt.show()# Display all subplots"
   ]
  },
  {
   "cell_type": "code",
   "execution_count": null,
   "id": "8994061c-c9e8-48f5-b346-3045f53d2484",
   "metadata": {},
   "outputs": [],
   "source": [
    "numeric_features = ['age', 'income_lakhs', 'number_of_dependants','genetical_risk']\n",
    "\n",
    "fig, axes  = plt.subplots(1, len(numeric_features), figsize = (18,6))\n",
    "\n",
    "for ax, column in zip(axes, numeric_features):\n",
    "    sns.scatterplot(x = df2[column], y = df2['annual_premium_amount'],ax = ax)\n",
    "    ax.set_title(f'{column} vs Annual Premium amount')\n",
    "    ax.set_xlabel(column)\n",
    "    ax.set_ylabel('Annaul Premium Amount')\n",
    "\n",
    "plt.tight_layout()\n",
    "plt.show()"
   ]
  },
  {
   "cell_type": "code",
   "execution_count": null,
   "id": "2eb38dcc-e642-43e4-902d-e71b57d124ae",
   "metadata": {},
   "outputs": [],
   "source": [
    "categorical_columns = df2.select_dtypes(include=['object', 'category'])\n",
    "categorical_columns.columns"
   ]
  },
  {
   "cell_type": "code",
   "execution_count": null,
   "id": "fccf40c7-20c1-47d9-a491-1cc4c5bb4222",
   "metadata": {},
   "outputs": [],
   "source": [
    "for col in categorical_columns:\n",
    "    print(f\"{col}: {df[col].unique()}\")"
   ]
  },
  {
   "cell_type": "code",
   "execution_count": null,
   "id": "44d6fe32-67bb-4520-bbb2-62f4fa7c9e8d",
   "metadata": {},
   "outputs": [],
   "source": [
    "df2['smoking_status'].replace({\n",
    "    'Smoking=0': 'No Smoking',\n",
    "    'Does Not Smoke' : 'No Smoking',\n",
    "    'Not Smoking' : 'No Smoking'\n",
    "  },inplace = True)\n",
    "df2['smoking_status'].unique()"
   ]
  },
  {
   "cell_type": "code",
   "execution_count": null,
   "id": "5cb4e397-244b-430f-9dfd-1397674bec68",
   "metadata": {},
   "outputs": [],
   "source": [
    "pctg_count = df2['gender'].value_counts(normalize = True)\n",
    "pctg_count"
   ]
  },
  {
   "cell_type": "code",
   "execution_count": null,
   "id": "6a882ab3-3ad8-46de-af5b-f9987791d83f",
   "metadata": {},
   "outputs": [],
   "source": [
    "sns.barplot(x = pctg_count.index, y = pctg_count.values)"
   ]
  },
  {
   "cell_type": "code",
   "execution_count": null,
   "id": "2571c6c7-06b4-4326-a0aa-7873ff8a2c6c",
   "metadata": {},
   "outputs": [],
   "source": [
    "fig, axes  = plt.subplots(3, 3,figsize = (18,18))\n",
    "axes  = axes.flatten()\n",
    "\n",
    "for ax , column in zip(axes , categorical_columns):\n",
    "    category_counts = df2[column].value_counts(normalize = True) * 100\n",
    "    sns.barplot(x =category_counts.index , y = category_counts.values, ax = ax)\n",
    "    ax.set_title(f'Percentage Distribution of {column}')\n",
    "    ax.set_ylabel('Percentage of Policyholder (%)')\n",
    "    ax.set_xlabel(column)\n",
    "plt.tight_layout()\n",
    "plt.show()\n"
   ]
  },
  {
   "cell_type": "code",
   "execution_count": null,
   "id": "23789090-39f6-4bd8-aa27-7ee91eb78598",
   "metadata": {},
   "outputs": [],
   "source": [
    "crosstab = pd.crosstab(df2['income_level'], df2['insurance_plan'])\n",
    "print(crosstab)\n",
    "\n",
    "crosstab.plot(kind = \"bar\", stacked = True )\n",
    "plt.title('Income vs Plan')\n",
    "plt.ylabel('Count')\n",
    "plt.show()"
   ]
  },
  {
   "cell_type": "markdown",
   "id": "f625613f-25e8-4697-9229-bf18e7f6a860",
   "metadata": {},
   "source": [
    "## Feature Engineering"
   ]
  },
  {
   "cell_type": "code",
   "execution_count": null,
   "id": "ae9c476d-add0-4a16-98ad-b3612df89a5d",
   "metadata": {},
   "outputs": [],
   "source": [
    "df2.head(2)"
   ]
  },
  {
   "cell_type": "code",
   "execution_count": null,
   "id": "c0f5d0cf-fc95-4681-b9a6-9f1438cf8256",
   "metadata": {},
   "outputs": [],
   "source": [
    "df2.medical_history.unique()"
   ]
  },
  {
   "cell_type": "code",
   "execution_count": null,
   "id": "1a115d62-fb45-4931-8d5c-2a0b1af236dd",
   "metadata": {},
   "outputs": [],
   "source": [
    "# According Medical hostory column having Kind of Diseases, we will have to convert these diseases into numbers\n",
    "# If the person will have higher number of diseases premier will be higher \n",
    "# So we will assgin some risk score according to business told us\n",
    "\n",
    "risk_score = {\n",
    "    \"diabetes\":6,\n",
    "    \"heart disease\":8,\n",
    "    \"high blood pressure\": 6,\n",
    "    \"thyroid\": 5,\n",
    "    \"no disease\": 0,\n",
    "    \"none\": 0\n",
    "}\n",
    "\n",
    "# We have to seperate out the multiple diseases \n",
    "# if the person will have multiple diseases his risk score will sum \n",
    "\n",
    "df2[['disease1', 'disease2']] = df2['medical_history'].str.split(\" & \", expand = True ).apply(lambda x : x.str.lower())\n",
    "df2.head()"
   ]
  },
  {
   "cell_type": "code",
   "execution_count": null,
   "id": "ca4c47c5-7309-49c8-ac33-5e92314c3669",
   "metadata": {},
   "outputs": [],
   "source": [
    "df2['disease1'].fillna('none', inplace = True)\n",
    "df2['disease2'].fillna('none', inplace = True)\n",
    "df2['total_risk_score'] = 0\n",
    "\n",
    "for disease in ['disease1','disease2']:\n",
    "    df2['total_risk_score'] += df2[disease].map(risk_score)\n",
    "    \n",
    "max_score = df2['total_risk_score'].max()\n",
    "min_score = df2['total_risk_score'].min()\n",
    "df2['normalized_risk_score'] = (df2['total_risk_score'] - min_score) / (max_score - min_score)\n",
    "df2.head(2)"
   ]
  },
  {
   "cell_type": "code",
   "execution_count": null,
   "id": "d43eb920-6c9e-4cbf-b1e7-56dc2bf32824",
   "metadata": {},
   "outputs": [],
   "source": [
    "df2.insurance_plan.unique()"
   ]
  },
  {
   "cell_type": "code",
   "execution_count": null,
   "id": "3e4538cd-33d0-4cd5-8bf5-a11a2e175a18",
   "metadata": {},
   "outputs": [],
   "source": [
    "df2['income_level'].unique() "
   ]
  },
  {
   "cell_type": "code",
   "execution_count": null,
   "id": "16dff28e-9cf2-41fd-9b18-4326e8a875de",
   "metadata": {},
   "outputs": [],
   "source": [
    "# This is an ordinal Category like Bronze < Silver < Gold  So will just Label Encoding\n",
    "df2['insurance_plan'] = df2['insurance_plan'].map({'Bronze':1, 'Silver':2, 'Gold':3})\n",
    "df2.insurance_plan.unique()"
   ]
  },
  {
   "cell_type": "code",
   "execution_count": null,
   "id": "09691957-9fc2-4b3d-aae1-f354b63c0eeb",
   "metadata": {},
   "outputs": [],
   "source": [
    "df2['income_level'] = df2['income_level'].map({'<10L':1, '10L - 25L':2, '> 40L':3, '25L - 40L':4})\n",
    "df2.head(3)"
   ]
  },
  {
   "cell_type": "markdown",
   "id": "c23c5407-d437-42cc-8f57-096d9597eeaa",
   "metadata": {},
   "source": [
    "#### So Remaining Column are nominal So we will OneHotEncoding On those"
   ]
  },
  {
   "cell_type": "code",
   "execution_count": null,
   "id": "2844ccea-d0fd-47b6-80b2-0efe59c4b1a5",
   "metadata": {},
   "outputs": [],
   "source": [
    "nominal_cols = ['gender', 'region', 'marital_status','bmi_category', 'smoking_status','employment_status']\n",
    "df3 = pd.get_dummies(df2, columns = nominal_cols, drop_first = True, dtype = int)\n",
    "df3.head()"
   ]
  },
  {
   "cell_type": "code",
   "execution_count": null,
   "id": "0ef4004a-8333-42c3-b42a-c377bdcad502",
   "metadata": {},
   "outputs": [],
   "source": [
    "df4 = df3.drop(['medical_history', 'disease1', 'disease2'],axis = 1)\n",
    "df4.head()"
   ]
  },
  {
   "cell_type": "markdown",
   "id": "edb607d2-9f9f-41b1-ae28-3e4c47e67e3b",
   "metadata": {},
   "source": [
    "#### Some Co-Relation Analysis between some columns"
   ]
  },
  {
   "cell_type": "code",
   "execution_count": null,
   "id": "6c6255b1-ae55-4a83-b983-5076b0f5eac6",
   "metadata": {},
   "outputs": [],
   "source": [
    "cm = df4.corr()\n",
    "\n",
    "plt.figure(figsize = (20,12))\n",
    "sns.heatmap(cm, annot = True)\n",
    "plt.xticks(rotation = 45, ha = 'right')\n",
    "plt.yticks(rotation = 0)\n",
    "plt.tight_layout()\n",
    "plt.show()"
   ]
  },
  {
   "cell_type": "markdown",
   "id": "34fb22f6-27df-4e4a-9be0-f02039237cbc",
   "metadata": {},
   "source": [
    "#### Feature selection Based on Co-Relation"
   ]
  },
  {
   "cell_type": "code",
   "execution_count": null,
   "id": "d25dfcf3-1f38-4c2a-853b-ec021242a172",
   "metadata": {},
   "outputs": [],
   "source": [
    "X = df4.drop('annual_premium_amount', axis = 'columns')\n",
    "y = df4['annual_premium_amount']\n",
    "\n",
    "from sklearn.preprocessing import MinMaxScaler\n",
    "cols_to_scale = ['age', 'number_of_dependants', 'income_level', 'income_lakhs', 'insurance_plan','genetical_risk']\n",
    "scaler = MinMaxScaler()\n",
    "\n",
    "X[cols_to_scale] = scaler.fit_transform(X[cols_to_scale])\n",
    "X.describe()"
   ]
  },
  {
   "cell_type": "code",
   "execution_count": null,
   "id": "a11f8f07-33e4-46ec-af99-de44d7a3cc4e",
   "metadata": {},
   "outputs": [],
   "source": [
    "from statsmodels.stats.outliers_influence import variance_inflation_factor\n",
    "\n",
    "def calculate_vif(data):\n",
    "    vif_df = pd.DataFrame()\n",
    "    vif_df['Column'] = data.columns\n",
    "    vif_df['VIF'] = [variance_inflation_factor(data.values,i) for i in range(data.shape[1])]\n",
    "    return vif_df"
   ]
  },
  {
   "cell_type": "code",
   "execution_count": null,
   "id": "ecdbe80e-21b4-4496-9975-ac03815973ff",
   "metadata": {},
   "outputs": [],
   "source": [
    "calculate_vif(X)"
   ]
  },
  {
   "cell_type": "code",
   "execution_count": null,
   "id": "21bf40a8-dfb1-4073-8334-e335ec1325a3",
   "metadata": {},
   "outputs": [],
   "source": [
    "X_reduced = X.drop('income_level', axis = 'columns')\n",
    "X_reduced.head()"
   ]
  },
  {
   "cell_type": "code",
   "execution_count": null,
   "id": "800c4548-eaed-4e18-bedb-a7bb72f05687",
   "metadata": {},
   "outputs": [],
   "source": [
    "### Now We will Start model training, Our Data is ready for Training model"
   ]
  },
  {
   "cell_type": "markdown",
   "id": "f901a8d6-8135-4f4d-afcd-96a796064146",
   "metadata": {},
   "source": [
    "## Model Training"
   ]
  },
  {
   "cell_type": "code",
   "execution_count": null,
   "id": "3c4d4f5b-4a2a-4f64-a347-d8c1c1dcae45",
   "metadata": {},
   "outputs": [],
   "source": [
    "X_train, X_test, y_train, y_test = train_test_split(X_reduced, y , test_size=0.3, random_state=10)\n",
    "print(\"x train: \", X_train.shape)\n",
    "print(\"X test: \" ,X_test.shape)\n",
    "print(\"y train: \",y_train.shape)\n",
    "print(\"y test: \", y_test.shape)"
   ]
  },
  {
   "cell_type": "markdown",
   "id": "36aa426d-00df-4913-84e4-9b6a266cfe4e",
   "metadata": {},
   "source": [
    "## Applying Linear Regression"
   ]
  },
  {
   "cell_type": "code",
   "execution_count": null,
   "id": "0ad273ce-7d38-41bf-b71d-fd85130a9a4a",
   "metadata": {},
   "outputs": [],
   "source": [
    "model_lr = LinearRegression()\n",
    "model_lr.fit(X_train, y_train)\n",
    "model_lr.score(X_test, y_test)"
   ]
  },
  {
   "cell_type": "code",
   "execution_count": null,
   "id": "87defcba-e252-4a4d-a46f-7b61ccefea9d",
   "metadata": {},
   "outputs": [],
   "source": [
    "#Checking both train and test score whether over model may getting overfitting\n",
    "# If both the score will same then model will overfitting free \n",
    "model_lr = LinearRegression()\n",
    "model_lr.fit(X_train, y_train)\n",
    "train_score = model_lr.score(X_train, y_train)\n",
    "test_score = model_lr.score(X_test, y_test)\n",
    "\n",
    "train_score, test_score"
   ]
  },
  {
   "cell_type": "code",
   "execution_count": null,
   "id": "34eecb6a-57e1-4208-abdf-1e3d5ba1691b",
   "metadata": {},
   "outputs": [],
   "source": []
  },
  {
   "cell_type": "code",
   "execution_count": null,
   "id": "d3fbacb3-6910-4664-8c1a-d72f60978669",
   "metadata": {},
   "outputs": [],
   "source": [
    "# By checking Feature impotance we will see how every feature have weight in prediction\n",
    "feature_importance = model_lr.coef_\n",
    "coef_df  = pd.DataFrame(feature_importance, index = X_test.columns, columns = ['Coefficients'])\n",
    "coef_df = coef_df.sort_values(by = 'Coefficients', ascending = True)\n",
    "\n",
    "plt.figure(figsize=(8, 4))\n",
    "plt.barh(coef_df.index, coef_df['Coefficients'], color='skyblue')\n",
    "plt.xlabel(\"Coefficient Value\")\n",
    "plt.ylabel(\"Features\")\n",
    "plt.title(\"Feature Importance in Linear Regression\")\n",
    "plt.show()"
   ]
  },
  {
   "cell_type": "code",
   "execution_count": null,
   "id": "50480f31-1e00-4a83-887c-71dc2e11ef84",
   "metadata": {},
   "outputs": [],
   "source": [
    "from sklearn.linear_model import Ridge\n",
    "\n",
    "# Initialize the Ridge model\n",
    "model_ridge = Ridge(alpha=1.0)  # alpha is the regularization strength\n",
    "\n",
    "# Fit the model\n",
    "model_ridge.fit(X_train, y_train)\n",
    "\n",
    "# Calculate scores\n",
    "train_score_ridge = model_ridge.score(X_train, y_train)\n",
    "test_score_ridge = model_ridge.score(X_test, y_test)\n",
    "\n",
    "train_score_ridge, test_score_ridge"
   ]
  },
  {
   "cell_type": "code",
   "execution_count": null,
   "id": "bc4cb1d6-1b7a-4594-8fb6-6d27c37d15c1",
   "metadata": {},
   "outputs": [],
   "source": [
    "from sklearn.linear_model import Lasso\n",
    "\n",
    "# Initialize the Lasso model\n",
    "model_lasso = Lasso(alpha=1.0)  # alpha is the regularization strength\n",
    "\n",
    "# Fit the model\n",
    "model_lasso.fit(X_train, y_train)\n",
    "\n",
    "# Calculate scores\n",
    "train_score_lasso = model_lasso.score(X_train, y_train)\n",
    "test_score_lasso = model_lasso.score(X_test, y_test)\n",
    "\n",
    "train_score_lasso, test_score_lasso"
   ]
  },
  {
   "cell_type": "code",
   "execution_count": null,
   "id": "0267a33e-6dc8-4550-a716-a0053ea94364",
   "metadata": {},
   "outputs": [],
   "source": [
    "!pip install xgboost"
   ]
  },
  {
   "cell_type": "code",
   "execution_count": null,
   "id": "72ae9699-04fa-4c35-aee0-e2f4c4a64d18",
   "metadata": {},
   "outputs": [],
   "source": [
    "from xgboost import XGBRegressor\n",
    "from sklearn.metrics import mean_squared_error, r2_score\n",
    "\n",
    "# Initialize the XGBRegressor model\n",
    "model_xgb = XGBRegressor(\n",
    "    objective='reg:squarederror',  # Objective function for regression\n",
    "    n_estimators=100,              # Number of boosting rounds (trees)\n",
    "    learning_rate=0.1,             # Learning rate\n",
    "    max_depth=3,                   # Maximum depth of a tree\n",
    "    subsample=0.8,                 # Fraction of samples used for training each tree\n",
    "    colsample_bytree=0.8,          # Fraction of features used for training each tree\n",
    "    random_state=42                # Random seed for reproducibility\n",
    ")\n",
    "\n",
    "# Fit the model\n",
    "model_xgb.fit(X_train, y_train)\n",
    "\n",
    "# Predict on training and test data\n",
    "y_train_pred = model_xgb.predict(X_train)\n",
    "y_test_pred = model_xgb.predict(X_test)\n",
    "\n",
    "# Evaluate the model\n",
    "train_score = r2_score(y_train, y_train_pred)\n",
    "test_score = r2_score(y_test, y_test_pred)\n",
    "\n",
    "train_score, test_score"
   ]
  },
  {
   "cell_type": "code",
   "execution_count": null,
   "id": "4bb441f5-7c0f-4e81-acdd-e85a0730da4f",
   "metadata": {},
   "outputs": [],
   "source": [
    "y_pred = model_xgb.predict(X_test)\n",
    "\n",
    "mse_lr = mean_squared_error(y_test, y_pred)\n",
    "rmse_lr = np.sqrt(mse_lr)\n",
    "\n",
    "print(\"XGBoost Regression ===> MSE: \", mse_lr, rmse_lr )"
   ]
  },
  {
   "cell_type": "code",
   "execution_count": null,
   "id": "c1088583-7b38-45b1-a16e-5f2289186bef",
   "metadata": {},
   "outputs": [],
   "source": [
    "from sklearn.model_selection import RandomizedSearchCV\n",
    "\n",
    "model_xgb = XGBRegressor()\n",
    "\n",
    "param_grid = {\n",
    "    'n_estimators': [20,40,50],\n",
    "    'learning_rate': [0.01,0.1,0.2],\n",
    "    'max_depth': [3,4,5]\n",
    "}\n",
    "\n",
    "random_search = RandomizedSearchCV(model_xgb, param_grid, n_iter = 10, cv = 3, scoring = 'r2', random_state=42)\n",
    "\n",
    "random_search.fit(X_train, y_train)\n",
    "random_search.best_score_"
   ]
  },
  {
   "cell_type": "code",
   "execution_count": null,
   "id": "73ca3991-ce5d-4a28-86a4-6bab7dfaff43",
   "metadata": {},
   "outputs": [],
   "source": [
    "random_search.best_params_"
   ]
  },
  {
   "cell_type": "code",
   "execution_count": null,
   "id": "0b61b088-f124-451e-9fb6-e730bca4775b",
   "metadata": {},
   "outputs": [],
   "source": [
    "best_model  = random_search.best_estimator_"
   ]
  },
  {
   "cell_type": "code",
   "execution_count": null,
   "id": "62ffa9af-0d40-4003-ada0-f7e564365510",
   "metadata": {},
   "outputs": [],
   "source": [
    "# By checking Feature impotance we will see how every feature have weight in prediction\n",
    "feature_importances = best_model.feature_importances_\n",
    "coef_df  = pd.DataFrame(feature_importances, index = X_test.columns, columns = ['Coefficients'])\n",
    "coef_df = coef_df.sort_values(by = 'Coefficients', ascending = True)\n",
    "\n",
    "plt.figure(figsize=(8, 4))\n",
    "plt.barh(coef_df.index, coef_df['Coefficients'], color='skyblue')\n",
    "plt.xlabel(\"Coefficient Value\")\n",
    "plt.ylabel(\"Features\")\n",
    "plt.title(\"Feature Importance in XGBoost\")\n",
    "plt.show()"
   ]
  },
  {
   "cell_type": "markdown",
   "id": "ea695c79-cd27-4e5c-9663-2652ad739761",
   "metadata": {},
   "source": [
    "## Error Analysis"
   ]
  },
  {
   "cell_type": "code",
   "execution_count": null,
   "id": "d27f1d3d-0067-4ce0-a689-ffec25829d02",
   "metadata": {},
   "outputs": [],
   "source": [
    "y_pred = best_model.predict(X_test)\n",
    "\n",
    "residual = y_pred - y_test\n",
    "residual_pct = residual*100/ y_test\n",
    "\n",
    "results_df = pd.DataFrame({\n",
    "    'actual': y_test,\n",
    "    'predicted': y_pred,\n",
    "    'difference': residual,\n",
    "    'diff_pct': residual_pct\n",
    "})\n",
    "\n",
    "results_df.head()"
   ]
  },
  {
   "cell_type": "code",
   "execution_count": null,
   "id": "5681dc98-fbf6-481c-bcef-14158b63b080",
   "metadata": {},
   "outputs": [],
   "source": [
    "sns.histplot(results_df['diff_pct'], kde = True)"
   ]
  },
  {
   "cell_type": "code",
   "execution_count": null,
   "id": "b9e62509-3005-4080-940d-3363ce5d1fcf",
   "metadata": {},
   "outputs": [],
   "source": [
    "# Checking how much Records having Error more than 10% \n",
    "\n",
    "extreme_error_threshold = 10\n",
    "\n",
    "extreme_results_df = results_df[np.abs(results_df.diff_pct)>extreme_error_threshold]\n",
    "extreme_results_df.shape"
   ]
  },
  {
   "cell_type": "code",
   "execution_count": null,
   "id": "340da48f-9e6a-482d-9271-7f7b9d59eb19",
   "metadata": {},
   "outputs": [],
   "source": [
    "extreme_error_pct = extreme_results_df.shape[0]*100/results_df.shape[0]\n",
    "extreme_error_pct"
   ]
  },
  {
   "cell_type": "code",
   "execution_count": null,
   "id": "ff0544a8-cf53-4212-8b51-9306db62eca2",
   "metadata": {},
   "outputs": [],
   "source": [
    "results_df[np.abs(results_df.diff_pct)>50].sort_values('diff_pct', ascending=False)"
   ]
  },
  {
   "cell_type": "code",
   "execution_count": null,
   "id": "1bd86da9-ec7f-4146-bc5a-55ebdcd4f4c8",
   "metadata": {},
   "outputs": [],
   "source": [
    "X_test.index"
   ]
  },
  {
   "cell_type": "code",
   "execution_count": null,
   "id": "bffb31fc-2b13-4651-81f8-df1a908ad49a",
   "metadata": {},
   "outputs": [],
   "source": [
    "extreme_results_df.index"
   ]
  },
  {
   "cell_type": "code",
   "execution_count": null,
   "id": "4d704462-597a-49cf-ba16-b7feb40e8ec0",
   "metadata": {},
   "outputs": [],
   "source": [
    "sns.histplot(X_test.age,label= \"Overall\", color = \"blue\",  kde= True)\n",
    "sns.histplot(extreme_error_df.age,label= \"Extreme Error\",color = \"red\", kde= True)\n",
    "plt.legend()\n",
    "plt.show()"
   ]
  },
  {
   "cell_type": "code",
   "execution_count": null,
   "id": "6eb3f8b3-3534-4b32-ab85-7466f440eaf1",
   "metadata": {},
   "outputs": [],
   "source": [
    "extreme_error_df = X_test.loc[extreme_results_df.index]"
   ]
  },
  {
   "cell_type": "code",
   "execution_count": null,
   "id": "76e05926-0903-489f-8190-7f0bd6812b4f",
   "metadata": {},
   "outputs": [],
   "source": [
    "extreme_error_df.head()"
   ]
  },
  {
   "cell_type": "markdown",
   "id": "07c881d2-6ef3-43c9-9779-34cc944760ea",
   "metadata": {},
   "source": [
    "## Export Model"
   ]
  },
  {
   "cell_type": "code",
   "execution_count": null,
   "id": "cef63c45-ae18-41af-8b6b-090ba7ea2e85",
   "metadata": {},
   "outputs": [],
   "source": [
    "from joblib import dump\n",
    "dump(best_model, \"artifacts/model_young.joblib\")\n",
    "\n",
    "scaler_with_cols = {\n",
    "    'scaler':scaler,\n",
    "    'cols_to_scale': cols_to_scale\n",
    "}\n",
    "dump(scaler_with_cols, \"artifacts/scaler_young.joblib\")"
   ]
  },
  {
   "cell_type": "code",
   "execution_count": null,
   "id": "5b1de53a-afa6-4480-96f7-53dfe43c63db",
   "metadata": {},
   "outputs": [],
   "source": []
  }
 ],
 "metadata": {
  "kernelspec": {
   "display_name": "Python 3 (ipykernel)",
   "language": "python",
   "name": "python3"
  },
  "language_info": {
   "codemirror_mode": {
    "name": "ipython",
    "version": 3
   },
   "file_extension": ".py",
   "mimetype": "text/x-python",
   "name": "python",
   "nbconvert_exporter": "python",
   "pygments_lexer": "ipython3",
   "version": "3.12.7"
  }
 },
 "nbformat": 4,
 "nbformat_minor": 5
}
